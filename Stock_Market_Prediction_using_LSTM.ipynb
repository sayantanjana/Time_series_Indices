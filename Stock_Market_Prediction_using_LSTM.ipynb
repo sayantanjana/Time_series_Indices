{
  "nbformat": 4,
  "nbformat_minor": 0,
  "metadata": {
    "kernelspec": {
      "display_name": "Python 3",
      "language": "python",
      "name": "python3"
    },
    "language_info": {
      "codemirror_mode": {
        "name": "ipython",
        "version": 3
      },
      "file_extension": ".py",
      "mimetype": "text/x-python",
      "name": "python",
      "nbconvert_exporter": "python",
      "pygments_lexer": "ipython3",
      "version": "3.7.4"
    },
    "colab": {
      "name": "Stock Market Prediction using LSTM.ipynb",
      "provenance": []
    }
  },
  "cells": [
    {
      "cell_type": "markdown",
      "metadata": {
        "id": "gplSezoMv7EH",
        "colab_type": "text"
      },
      "source": [
        "## Importing the Libraries"
      ]
    },
    {
      "cell_type": "code",
      "metadata": {
        "id": "O8o0gsKxv7EJ",
        "colab_type": "code",
        "colab": {}
      },
      "source": [
        "import numpy as np\n",
        "import matplotlib.pyplot as plt\n",
        "import pandas as pd"
      ],
      "execution_count": null,
      "outputs": []
    },
    {
      "cell_type": "markdown",
      "metadata": {
        "id": "5zIBkmFFv7ER",
        "colab_type": "text"
      },
      "source": [
        "## Importing the Dataset"
      ]
    },
    {
      "cell_type": "code",
      "metadata": {
        "id": "0py7CKeVv7ET",
        "colab_type": "code",
        "colab": {}
      },
      "source": [
        "url = 'https://raw.githubusercontent.com/sj-leshrac/Stock_Market_Data/master/NIFTY2010.csv'\n",
        "dataset_train = pd.read_csv(url)\n"
      ],
      "execution_count": null,
      "outputs": []
    },
    {
      "cell_type": "code",
      "metadata": {
        "id": "LHVdwDXwv7EX",
        "colab_type": "code",
        "colab": {}
      },
      "source": [
        "training_set1=dataset_train[0:1258]\n",
        "testing_set1=dataset_train[1258:]"
      ],
      "execution_count": null,
      "outputs": []
    },
    {
      "cell_type": "code",
      "metadata": {
        "id": "qbPZMPn5v7Eb",
        "colab_type": "code",
        "colab": {}
      },
      "source": [
        "training_set = training_set1.iloc[:, 4:5].values\n",
        "testing_set = testing_set1.iloc[:, 4:5].values"
      ],
      "execution_count": null,
      "outputs": []
    },
    {
      "cell_type": "code",
      "metadata": {
        "id": "9rip18kY5jdx",
        "colab_type": "code",
        "colab": {
          "base_uri": "https://localhost:8080/",
          "height": 134
        },
        "outputId": "c6205119-17ff-4bc6-c1af-be059ae185e3"
      },
      "source": [
        "training_set"
      ],
      "execution_count": null,
      "outputs": [
        {
          "output_type": "execute_result",
          "data": {
            "text/plain": [
              "array([[5222.75    ],\n",
              "       [5148.5     ],\n",
              "       [5124.899902],\n",
              "       ...,\n",
              "       [8174.600098],\n",
              "       [8224.950195],\n",
              "       [8353.099609]])"
            ]
          },
          "metadata": {
            "tags": []
          },
          "execution_count": 6
        }
      ]
    },
    {
      "cell_type": "markdown",
      "metadata": {
        "id": "yIBIY7ELv7Ej",
        "colab_type": "text"
      },
      "source": [
        "## Pre-preocessing the Dataset"
      ]
    },
    {
      "cell_type": "code",
      "metadata": {
        "id": "kaVohxhdv7Ek",
        "colab_type": "code",
        "colab": {}
      },
      "source": [
        "from sklearn.preprocessing import MinMaxScaler\n",
        "sc = MinMaxScaler(feature_range = (0, 1))\n",
        "training_set_scaled = sc.fit_transform(training_set)"
      ],
      "execution_count": null,
      "outputs": []
    },
    {
      "cell_type": "code",
      "metadata": {
        "id": "q3-Y4bwXv7Eo",
        "colab_type": "code",
        "colab": {
          "base_uri": "https://localhost:8080/",
          "height": 134
        },
        "outputId": "195b8149-91d8-47bb-9607-d542836865c6"
      },
      "source": [
        "training_set_scaled"
      ],
      "execution_count": null,
      "outputs": [
        {
          "output_type": "execute_result",
          "data": {
            "text/plain": [
              "array([[0.1524129 ],\n",
              "       [0.13573519],\n",
              "       [0.13043423],\n",
              "       ...,\n",
              "       [0.81544458],\n",
              "       [0.826754  ],\n",
              "       [0.85553837]])"
            ]
          },
          "metadata": {
            "tags": []
          },
          "execution_count": 8
        }
      ]
    },
    {
      "cell_type": "code",
      "metadata": {
        "id": "YCatOdSnv7Ew",
        "colab_type": "code",
        "colab": {}
      },
      "source": [
        "X_train = []\n",
        "y_train = []\n",
        "for i in range(60, 1258):\n",
        "    X_train.append(training_set_scaled[i-60:i, 0])\n",
        "    y_train.append(training_set_scaled[i, 0])\n",
        "X_train, y_train = np.array(X_train), np.array(y_train)\n",
        "\n",
        "X_train = np.reshape(X_train, (X_train.shape[0], X_train.shape[1], 1))"
      ],
      "execution_count": null,
      "outputs": []
    },
    {
      "cell_type": "code",
      "metadata": {
        "id": "LlQovVqf560D",
        "colab_type": "code",
        "colab": {
          "base_uri": "https://localhost:8080/",
          "height": 34
        },
        "outputId": "e42de4fc-db5c-4d2f-8a58-b309e6790cd5"
      },
      "source": [
        "len(y_train)"
      ],
      "execution_count": null,
      "outputs": [
        {
          "output_type": "execute_result",
          "data": {
            "text/plain": [
              "1198"
            ]
          },
          "metadata": {
            "tags": []
          },
          "execution_count": 13
        }
      ]
    },
    {
      "cell_type": "markdown",
      "metadata": {
        "id": "hGuyYI2sv7E1",
        "colab_type": "text"
      },
      "source": [
        "## LSTM Implementation"
      ]
    },
    {
      "cell_type": "code",
      "metadata": {
        "scrolled": true,
        "id": "yp2HNVyyv7E2",
        "colab_type": "code",
        "colab": {}
      },
      "source": [
        "from tensorflow.keras.models import Sequential\n",
        "from tensorflow.keras.layers import Dense\n",
        "from tensorflow.keras.layers import LSTM\n",
        "from tensorflow.keras.layers import Dropout\n",
        "\n",
        "from tensorflow.python.framework import ops\n",
        "ops.reset_default_graph()"
      ],
      "execution_count": null,
      "outputs": []
    },
    {
      "cell_type": "code",
      "metadata": {
        "id": "WvEyu5b9v7E7",
        "colab_type": "code",
        "colab": {
          "base_uri": "https://localhost:8080/",
          "height": 1000
        },
        "outputId": "3562c968-fdeb-4904-abf0-4aac81be5b03"
      },
      "source": [
        "regressor = Sequential()\n",
        "\n",
        "regressor.add(LSTM(units = 50, return_sequences = True, input_shape = (X_train.shape[1], 1)))\n",
        "regressor.add(Dropout(0.2))\n",
        "\n",
        "regressor.add(LSTM(units = 50, return_sequences = True))\n",
        "regressor.add(Dropout(0.2))\n",
        "\n",
        "regressor.add(LSTM(units = 50, return_sequences = True))\n",
        "regressor.add(Dropout(0.2))\n",
        "\n",
        "regressor.add(LSTM(units = 50))\n",
        "regressor.add(Dropout(0.2))\n",
        "\n",
        "regressor.add(Dense(units = 1))\n",
        "\n",
        "regressor.compile(optimizer = 'adam', loss = 'mean_squared_error')\n",
        "\n",
        "regressor.fit(X_train, y_train, epochs = 100, batch_size = 32)"
      ],
      "execution_count": null,
      "outputs": [
        {
          "output_type": "stream",
          "text": [
            "Epoch 1/100\n",
            "38/38 [==============================] - 4s 113ms/step - loss: 0.0277\n",
            "Epoch 2/100\n",
            "38/38 [==============================] - 4s 115ms/step - loss: 0.0048\n",
            "Epoch 3/100\n",
            "38/38 [==============================] - 4s 116ms/step - loss: 0.0045\n",
            "Epoch 4/100\n",
            "38/38 [==============================] - 4s 113ms/step - loss: 0.0043\n",
            "Epoch 5/100\n",
            "38/38 [==============================] - 4s 113ms/step - loss: 0.0042\n",
            "Epoch 6/100\n",
            "38/38 [==============================] - 4s 115ms/step - loss: 0.0042\n",
            "Epoch 7/100\n",
            "38/38 [==============================] - 4s 115ms/step - loss: 0.0045\n",
            "Epoch 8/100\n",
            "38/38 [==============================] - 4s 114ms/step - loss: 0.0040\n",
            "Epoch 9/100\n",
            "38/38 [==============================] - 4s 116ms/step - loss: 0.0039\n",
            "Epoch 10/100\n",
            "38/38 [==============================] - 4s 115ms/step - loss: 0.0040\n",
            "Epoch 11/100\n",
            "38/38 [==============================] - 4s 116ms/step - loss: 0.0039\n",
            "Epoch 12/100\n",
            "38/38 [==============================] - 4s 114ms/step - loss: 0.0040\n",
            "Epoch 13/100\n",
            "38/38 [==============================] - 4s 116ms/step - loss: 0.0039\n",
            "Epoch 14/100\n",
            "38/38 [==============================] - 4s 117ms/step - loss: 0.0030\n",
            "Epoch 15/100\n",
            "38/38 [==============================] - 4s 115ms/step - loss: 0.0036\n",
            "Epoch 16/100\n",
            "38/38 [==============================] - 4s 115ms/step - loss: 0.0034\n",
            "Epoch 17/100\n",
            "38/38 [==============================] - 4s 114ms/step - loss: 0.0028\n",
            "Epoch 18/100\n",
            "38/38 [==============================] - 4s 114ms/step - loss: 0.0027\n",
            "Epoch 19/100\n",
            "38/38 [==============================] - 4s 115ms/step - loss: 0.0028\n",
            "Epoch 20/100\n",
            "38/38 [==============================] - 4s 114ms/step - loss: 0.0030\n",
            "Epoch 21/100\n",
            "38/38 [==============================] - 4s 112ms/step - loss: 0.0029\n",
            "Epoch 22/100\n",
            "38/38 [==============================] - 4s 115ms/step - loss: 0.0027\n",
            "Epoch 23/100\n",
            "38/38 [==============================] - 4s 114ms/step - loss: 0.0027\n",
            "Epoch 24/100\n",
            "38/38 [==============================] - 4s 115ms/step - loss: 0.0029\n",
            "Epoch 25/100\n",
            "38/38 [==============================] - 4s 114ms/step - loss: 0.0027\n",
            "Epoch 26/100\n",
            "38/38 [==============================] - 4s 115ms/step - loss: 0.0022\n",
            "Epoch 27/100\n",
            "38/38 [==============================] - 4s 118ms/step - loss: 0.0025\n",
            "Epoch 28/100\n",
            "38/38 [==============================] - 4s 114ms/step - loss: 0.0023\n",
            "Epoch 29/100\n",
            "38/38 [==============================] - 4s 114ms/step - loss: 0.0023\n",
            "Epoch 30/100\n",
            "38/38 [==============================] - 4s 114ms/step - loss: 0.0021\n",
            "Epoch 31/100\n",
            "38/38 [==============================] - 4s 115ms/step - loss: 0.0019\n",
            "Epoch 32/100\n",
            "38/38 [==============================] - 4s 114ms/step - loss: 0.0021\n",
            "Epoch 33/100\n",
            "38/38 [==============================] - 4s 117ms/step - loss: 0.0020\n",
            "Epoch 34/100\n",
            "38/38 [==============================] - 4s 116ms/step - loss: 0.0020\n",
            "Epoch 35/100\n",
            "38/38 [==============================] - 4s 114ms/step - loss: 0.0019\n",
            "Epoch 36/100\n",
            "38/38 [==============================] - 4s 115ms/step - loss: 0.0018\n",
            "Epoch 37/100\n",
            "38/38 [==============================] - 4s 113ms/step - loss: 0.0023\n",
            "Epoch 38/100\n",
            "38/38 [==============================] - 4s 113ms/step - loss: 0.0023\n",
            "Epoch 39/100\n",
            "38/38 [==============================] - 4s 114ms/step - loss: 0.0019\n",
            "Epoch 40/100\n",
            "38/38 [==============================] - 4s 114ms/step - loss: 0.0019\n",
            "Epoch 41/100\n",
            "38/38 [==============================] - 4s 117ms/step - loss: 0.0020\n",
            "Epoch 42/100\n",
            "38/38 [==============================] - 4s 116ms/step - loss: 0.0017\n",
            "Epoch 43/100\n",
            "38/38 [==============================] - 4s 113ms/step - loss: 0.0018\n",
            "Epoch 44/100\n",
            "38/38 [==============================] - 4s 113ms/step - loss: 0.0018\n",
            "Epoch 45/100\n",
            "38/38 [==============================] - 4s 116ms/step - loss: 0.0019\n",
            "Epoch 46/100\n",
            "38/38 [==============================] - 4s 117ms/step - loss: 0.0017\n",
            "Epoch 47/100\n",
            "38/38 [==============================] - 4s 115ms/step - loss: 0.0016\n",
            "Epoch 48/100\n",
            "38/38 [==============================] - 4s 113ms/step - loss: 0.0017\n",
            "Epoch 49/100\n",
            "38/38 [==============================] - 4s 115ms/step - loss: 0.0016\n",
            "Epoch 50/100\n",
            "38/38 [==============================] - 4s 115ms/step - loss: 0.0015\n",
            "Epoch 51/100\n",
            "38/38 [==============================] - 4s 115ms/step - loss: 0.0017\n",
            "Epoch 52/100\n",
            "38/38 [==============================] - 5s 120ms/step - loss: 0.0015\n",
            "Epoch 53/100\n",
            "38/38 [==============================] - 4s 116ms/step - loss: 0.0015\n",
            "Epoch 54/100\n",
            "38/38 [==============================] - 4s 115ms/step - loss: 0.0015\n",
            "Epoch 55/100\n",
            "38/38 [==============================] - 4s 117ms/step - loss: 0.0016\n",
            "Epoch 56/100\n",
            "38/38 [==============================] - 4s 116ms/step - loss: 0.0015\n",
            "Epoch 57/100\n",
            "38/38 [==============================] - 4s 116ms/step - loss: 0.0016\n",
            "Epoch 58/100\n",
            "38/38 [==============================] - 4s 114ms/step - loss: 0.0015\n",
            "Epoch 59/100\n",
            "38/38 [==============================] - 4s 114ms/step - loss: 0.0014\n",
            "Epoch 60/100\n",
            "38/38 [==============================] - 4s 114ms/step - loss: 0.0016\n",
            "Epoch 61/100\n",
            "38/38 [==============================] - 4s 113ms/step - loss: 0.0016\n",
            "Epoch 62/100\n",
            "38/38 [==============================] - 4s 114ms/step - loss: 0.0015\n",
            "Epoch 63/100\n",
            "38/38 [==============================] - 4s 113ms/step - loss: 0.0015\n",
            "Epoch 64/100\n",
            "38/38 [==============================] - 4s 117ms/step - loss: 0.0013\n",
            "Epoch 65/100\n",
            "38/38 [==============================] - 4s 114ms/step - loss: 0.0016\n",
            "Epoch 66/100\n",
            "38/38 [==============================] - 4s 114ms/step - loss: 0.0015\n",
            "Epoch 67/100\n",
            "38/38 [==============================] - 4s 117ms/step - loss: 0.0015\n",
            "Epoch 68/100\n",
            "38/38 [==============================] - 4s 115ms/step - loss: 0.0014\n",
            "Epoch 69/100\n",
            "38/38 [==============================] - 4s 112ms/step - loss: 0.0017\n",
            "Epoch 70/100\n",
            "38/38 [==============================] - 4s 117ms/step - loss: 0.0014\n",
            "Epoch 71/100\n",
            "38/38 [==============================] - 4s 117ms/step - loss: 0.0014\n",
            "Epoch 72/100\n",
            "38/38 [==============================] - 4s 118ms/step - loss: 0.0013\n",
            "Epoch 73/100\n",
            "38/38 [==============================] - 4s 116ms/step - loss: 0.0013\n",
            "Epoch 74/100\n",
            "38/38 [==============================] - 4s 116ms/step - loss: 0.0015\n",
            "Epoch 75/100\n",
            "38/38 [==============================] - 4s 117ms/step - loss: 0.0014\n",
            "Epoch 76/100\n",
            "38/38 [==============================] - 5s 119ms/step - loss: 0.0012\n",
            "Epoch 77/100\n",
            "38/38 [==============================] - 4s 117ms/step - loss: 0.0012\n",
            "Epoch 78/100\n",
            "38/38 [==============================] - 4s 118ms/step - loss: 0.0015\n",
            "Epoch 79/100\n",
            "38/38 [==============================] - 4s 116ms/step - loss: 0.0010\n",
            "Epoch 80/100\n",
            "38/38 [==============================] - 4s 116ms/step - loss: 0.0012\n",
            "Epoch 81/100\n",
            "38/38 [==============================] - 5s 119ms/step - loss: 0.0012\n",
            "Epoch 82/100\n",
            "38/38 [==============================] - 4s 114ms/step - loss: 0.0012\n",
            "Epoch 83/100\n",
            "38/38 [==============================] - 4s 114ms/step - loss: 0.0012\n",
            "Epoch 84/100\n",
            "38/38 [==============================] - 4s 117ms/step - loss: 0.0014\n",
            "Epoch 85/100\n",
            "38/38 [==============================] - 4s 115ms/step - loss: 0.0012\n",
            "Epoch 86/100\n",
            "38/38 [==============================] - 4s 115ms/step - loss: 0.0011\n",
            "Epoch 87/100\n",
            "38/38 [==============================] - 4s 118ms/step - loss: 0.0012\n",
            "Epoch 88/100\n",
            "38/38 [==============================] - 4s 117ms/step - loss: 0.0011\n",
            "Epoch 89/100\n",
            "38/38 [==============================] - 4s 115ms/step - loss: 0.0012\n",
            "Epoch 90/100\n",
            "38/38 [==============================] - 4s 114ms/step - loss: 0.0011\n",
            "Epoch 91/100\n",
            "38/38 [==============================] - 4s 117ms/step - loss: 0.0011\n",
            "Epoch 92/100\n",
            "38/38 [==============================] - 4s 114ms/step - loss: 0.0013\n",
            "Epoch 93/100\n",
            "38/38 [==============================] - 4s 113ms/step - loss: 0.0011\n",
            "Epoch 94/100\n",
            "38/38 [==============================] - 4s 113ms/step - loss: 0.0011\n",
            "Epoch 95/100\n",
            "38/38 [==============================] - 4s 113ms/step - loss: 0.0011\n",
            "Epoch 96/100\n",
            "38/38 [==============================] - 4s 112ms/step - loss: 0.0010\n",
            "Epoch 97/100\n",
            "38/38 [==============================] - 4s 113ms/step - loss: 9.8388e-04\n",
            "Epoch 98/100\n",
            "38/38 [==============================] - 4s 112ms/step - loss: 0.0010\n",
            "Epoch 99/100\n",
            "38/38 [==============================] - 4s 116ms/step - loss: 0.0013\n",
            "Epoch 100/100\n",
            "38/38 [==============================] - 4s 113ms/step - loss: 9.5425e-04\n"
          ],
          "name": "stdout"
        },
        {
          "output_type": "execute_result",
          "data": {
            "text/plain": [
              "<tensorflow.python.keras.callbacks.History at 0x7f0614221358>"
            ]
          },
          "metadata": {
            "tags": []
          },
          "execution_count": 15
        }
      ]
    },
    {
      "cell_type": "code",
      "metadata": {
        "id": "mh0U1Gr3v7FA",
        "colab_type": "code",
        "colab": {}
      },
      "source": [
        "dataset_test = testing_set1\n",
        "real_stock_price = dataset_test.iloc[:, 4:5].values"
      ],
      "execution_count": null,
      "outputs": []
    },
    {
      "cell_type": "markdown",
      "metadata": {
        "id": "h3sUU6ZVv7FF",
        "colab_type": "text"
      },
      "source": [
        "## Predicting the Output"
      ]
    },
    {
      "cell_type": "code",
      "metadata": {
        "id": "1hXbkzVsv7FG",
        "colab_type": "code",
        "colab": {}
      },
      "source": [
        "dataset_total = pd.concat((dataset_train['Open'], dataset_test['Open']), axis = 0)\n",
        "inputs = dataset_total[len(dataset_total) - len(dataset_test) - 60:].values\n",
        "inputs = inputs.reshape(-1,1)\n",
        "inputs = sc.transform(inputs)\n",
        "X_test = []\n",
        "for i in range(61, 1252):\n",
        "    X_test.append(inputs[i-60:i, 0])\n",
        "X_test = np.array(X_test)\n",
        "X_test = np.reshape(X_test, (X_test.shape[0], X_test.shape[1], 1))\n",
        "predicted_stock_price = regressor.predict(X_test)\n",
        "predicted_stock_price = sc.inverse_transform(predicted_stock_price)"
      ],
      "execution_count": null,
      "outputs": []
    },
    {
      "cell_type": "markdown",
      "metadata": {
        "id": "b4W1dCF2v7FM",
        "colab_type": "text"
      },
      "source": [
        "## Visualizing the Output"
      ]
    },
    {
      "cell_type": "code",
      "metadata": {
        "id": "uMASaNgZv7FM",
        "colab_type": "code",
        "colab": {
          "base_uri": "https://localhost:8080/",
          "height": 404
        },
        "outputId": "b858b701-9165-4b46-91bb-ea680ea19016"
      },
      "source": [
        "from matplotlib.pylab import rcParams\n",
        "rcParams['figure.figsize']=15,6\n",
        "\n",
        "plt.plot(real_stock_price, color = 'black', label = 'Yahoo Finance Stock Price')\n",
        "plt.plot(predicted_stock_price, color = 'green', label = 'Yahoo Finance Predicted Stock Price')\n",
        "plt.title('Yahoo Finance Stock Price Prediction')\n",
        "plt.xlabel('Time')\n",
        "plt.ylabel('Yahoo Finance Stock Price')\n",
        "plt.legend()\n",
        "plt.show()"
      ],
      "execution_count": null,
      "outputs": [
        {
          "output_type": "display_data",
          "data": {
            "image/png": "[encoded data removed]",
            "text/plain": [
              "<Figure size 1080x432 with 1 Axes>"
            ]
          },
          "metadata": {
            "tags": [],
            "needs_background": "light"
          }
        }
      ]
    },
    {
      "cell_type": "code",
      "metadata": {
        "id": "I1ijqmV-v7FR",
        "colab_type": "code",
        "colab": {}
      },
      "source": [
        "import numpy as np\n",
        "from sklearn.metrics import mean_squared_error\n",
        "from sklearn.metrics import r2_score\n",
        "test_set_rmse = (np.sqrt(mean_squared_error(real_stock_price, predicted_stock_price)))\n",
        "test_set_r2 = r2_score(real_stock_price, predicted_stock_price)"
      ],
      "execution_count": null,
      "outputs": []
    },
    {
      "cell_type": "code",
      "metadata": {
        "id": "_wA-7GX3v7FV",
        "colab_type": "code",
        "colab": {
          "base_uri": "https://localhost:8080/",
          "height": 34
        },
        "outputId": "98a1083d-bdd4-4fdf-b35b-83b878670e31"
      },
      "source": [
        "print(test_set_rmse)"
      ],
      "execution_count": null,
      "outputs": [
        {
          "output_type": "stream",
          "text": [
            "979.8454167922998\n"
          ],
          "name": "stdout"
        }
      ]
    },
    {
      "cell_type": "code",
      "metadata": {
        "id": "Qjqvih0Tv7Fb",
        "colab_type": "code",
        "colab": {
          "base_uri": "https://localhost:8080/",
          "height": 34
        },
        "outputId": "74665c96-acfe-40f0-83fe-4a96fdebaf97"
      },
      "source": [
        "print(test_set_r2)"
      ],
      "execution_count": null,
      "outputs": [
        {
          "output_type": "stream",
          "text": [
            "0.5395431877052288\n"
          ],
          "name": "stdout"
        }
      ]
    },
    {
      "cell_type": "code",
      "metadata": {
        "id": "V97yKsuk1Gzl",
        "colab_type": "code",
        "colab": {}
      },
      "source": [
        ""
      ],
      "execution_count": null,
      "outputs": []
    }
  ]
}